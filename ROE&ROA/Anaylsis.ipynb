{
 "cells": [
  {
   "cell_type": "markdown",
   "metadata": {},
   "source": [
    "## 先import所需的library"
   ]
  },
  {
   "cell_type": "code",
   "execution_count": 395,
   "metadata": {},
   "outputs": [],
   "source": [
    "import numpy as np\n",
    "import pandas as pd\n",
    "import seaborn as sns \n",
    "import matplotlib.pyplot as plt\n",
    "plt.rcParams['font.sans-serif']=['SimHei'] #用来正常顯示中文\n",
    "plt.rcParams['axes.unicode_minus']=False #用来正常顯示負號\n",
    "sns.set(font='SimHei',font_scale=0.8)#解決seaborn中文無法顯示問題"
   ]
  },
  {
   "cell_type": "markdown",
   "metadata": {},
   "source": [
    "## 將資料讀進來進行操作"
   ]
  },
  {
   "cell_type": "code",
   "execution_count": 397,
   "metadata": {},
   "outputs": [
    {
     "name": "stdout",
     "output_type": "stream",
     "text": [
      "   Name  Year    ROE   ROA\n",
      "0    國泰  2021  13.85  1.10\n",
      "1    國泰  2020   9.77  0.73\n",
      "2    國泰  2019   9.37  0.66\n",
      "3    富邦  2021  15.65  1.36\n",
      "4    富邦  2020  14.58  1.03\n",
      "5    富邦  2019  10.65  0.74\n",
      "6   開發金  2021  13.61  1.22\n",
      "7   開發金  2020   7.29  0.64\n",
      "8   開發金  2019   7.31  0.67\n",
      "9   國票金  2021   8.17  1.07\n",
      "10  國票金  2020   9.24  1.25\n",
      "11  國票金  2019   7.87  1.06\n"
     ]
    }
   ],
   "source": [
    "data = pd.read_excel (r'\\Users\\USER\\Desktop\\data.xlsx',thousands=',')\n",
    "print (data)"
   ]
  },
  {
   "cell_type": "markdown",
   "metadata": {},
   "source": [
    "## 先計算ROA的部分"
   ]
  },
  {
   "cell_type": "code",
   "execution_count": 378,
   "metadata": {},
   "outputs": [],
   "source": [
    "def calROA(Name):\n",
    "    ROA = data.loc[data.Name== Name,['Name','Year','ROA']]\n",
    "    print(ROA)\n",
    "    ROA = ROA['ROA'].mean()\n",
    "    ROA = round(ROA, 2)\n",
    "    print(Name,'平均ROA為:',ROA)\n",
    "    return ROA"
   ]
  },
  {
   "cell_type": "code",
   "execution_count": 379,
   "metadata": {},
   "outputs": [
    {
     "name": "stdout",
     "output_type": "stream",
     "text": [
      "  Name  Year   ROA\n",
      "0   國泰  2021  1.10\n",
      "1   國泰  2020  0.73\n",
      "2   國泰  2019  0.66\n",
      "國泰 平均ROA為: 0.83\n"
     ]
    }
   ],
   "source": [
    "cathay_Mean_ROA = calROA('國泰')"
   ]
  },
  {
   "cell_type": "code",
   "execution_count": 380,
   "metadata": {},
   "outputs": [
    {
     "name": "stdout",
     "output_type": "stream",
     "text": [
      "  Name  Year   ROA\n",
      "3   富邦  2021  1.36\n",
      "4   富邦  2020  1.03\n",
      "5   富邦  2019  0.74\n",
      "富邦 平均ROA為: 1.04\n"
     ]
    }
   ],
   "source": [
    "Fubon_Mean_ROA = calROA('富邦')"
   ]
  },
  {
   "cell_type": "code",
   "execution_count": 381,
   "metadata": {},
   "outputs": [
    {
     "name": "stdout",
     "output_type": "stream",
     "text": [
      "  Name  Year   ROA\n",
      "6  開發金  2021  1.22\n",
      "7  開發金  2020  0.64\n",
      "8  開發金  2019  0.67\n",
      "開發金 平均ROA為: 0.84\n"
     ]
    }
   ],
   "source": [
    "CDIBH_Mean_ROA = calROA('開發金')"
   ]
  },
  {
   "cell_type": "code",
   "execution_count": 382,
   "metadata": {},
   "outputs": [
    {
     "name": "stdout",
     "output_type": "stream",
     "text": [
      "   Name  Year   ROA\n",
      "9   國票金  2021  1.07\n",
      "10  國票金  2020  1.25\n",
      "11  國票金  2019  1.06\n",
      "國票金 平均ROA為: 1.13\n"
     ]
    }
   ],
   "source": [
    "IBF_Mean_ROA = calROA('國票金')"
   ]
  },
  {
   "cell_type": "markdown",
   "metadata": {},
   "source": [
    "## 將各公司的平均ROA整理進一個表格中"
   ]
  },
  {
   "cell_type": "code",
   "execution_count": 383,
   "metadata": {},
   "outputs": [
    {
     "name": "stdout",
     "output_type": "stream",
     "text": [
      "     平均ROA\n",
      "國泰    0.83\n",
      "富邦    1.04\n",
      "開發金   0.84\n",
      "國票金   1.13\n"
     ]
    }
   ],
   "source": [
    "ROA = {'國泰':cathay_Mean_ROA,'富邦':Fubon_Mean_ROA,'開發金':CDIBH_Mean_ROA,'國票金':IBF_Mean_ROA}\n",
    "ROA = pd.Series(ROA)\n",
    "ROA = pd.DataFrame({'平均ROA':ROA})\n",
    "print(ROA)"
   ]
  },
  {
   "cell_type": "markdown",
   "metadata": {},
   "source": [
    "## 繪製ROA長條圖"
   ]
  },
  {
   "cell_type": "code",
   "execution_count": 384,
   "metadata": {},
   "outputs": [
    {
     "data": {
      "image/png": "[encoded data removed]",
      "text/plain": [
       "<Figure size 1152x648 with 1 Axes>"
      ]
     },
     "metadata": {},
     "output_type": "display_data"
    }
   ],
   "source": [
    "fig, ax = plt.subplots(figsize=(16, 9))\n",
    "ax.tick_params(axis='x', colors='#777777', labelsize=16) #調整橫軸顏色、標籤大小\n",
    "ax.tick_params(axis='y', colors='#777777', labelsize=15) #調整縱軸顏色、標籤大小\n",
    "plt.bar(ROA.index, ROA['平均ROA'], width=0.3,bottom=None, align='center', color='lightsteelblue') #設定長條圖內容\n",
    "plt.axhline(y=0.83, c=\"r\", ls=\"--\", lw=2) #紅色虛線\n",
    "ax.text(0, 1.15, '2019-2021公司平均ROA',transform=ax.transAxes, size=24, weight=600, ha='left', va='top') #標題\n",
    "ax.text(0, 1.06, 'ROA (%)', transform=ax.transAxes, size=19, color='#777777') #小標題\n",
    "sns.set(style = \"whitegrid\") #白色網格背景\n",
    "plt.show()"
   ]
  },
  {
   "cell_type": "markdown",
   "metadata": {},
   "source": [
    "## 計算ROE的部分"
   ]
  },
  {
   "cell_type": "code",
   "execution_count": 385,
   "metadata": {},
   "outputs": [],
   "source": [
    "def calROE(Name):\n",
    "    ROE = data.loc[data.Name== Name,['Name','Year','ROE']]\n",
    "    print(ROE)\n",
    "    ROE = ROE['ROE'].mean()\n",
    "    ROE = round(ROE, 2)\n",
    "    print(Name,'平均ROE為:',ROE)\n",
    "    return ROE"
   ]
  },
  {
   "cell_type": "code",
   "execution_count": 386,
   "metadata": {},
   "outputs": [
    {
     "name": "stdout",
     "output_type": "stream",
     "text": [
      "  Name  Year    ROE\n",
      "0   國泰  2021  13.85\n",
      "1   國泰  2020   9.77\n",
      "2   國泰  2019   9.37\n",
      "國泰 平均ROE為: 11.0\n"
     ]
    }
   ],
   "source": [
    "cathay_Mean_ROE = calROE('國泰')"
   ]
  },
  {
   "cell_type": "code",
   "execution_count": 387,
   "metadata": {},
   "outputs": [
    {
     "name": "stdout",
     "output_type": "stream",
     "text": [
      "  Name  Year    ROE\n",
      "3   富邦  2021  15.65\n",
      "4   富邦  2020  14.58\n",
      "5   富邦  2019  10.65\n",
      "富邦 平均ROE為: 13.63\n"
     ]
    }
   ],
   "source": [
    "Fubon_Mean_ROE = calROE('富邦')"
   ]
  },
  {
   "cell_type": "code",
   "execution_count": 388,
   "metadata": {
    "scrolled": true
   },
   "outputs": [
    {
     "name": "stdout",
     "output_type": "stream",
     "text": [
      "  Name  Year    ROE\n",
      "6  開發金  2021  13.61\n",
      "7  開發金  2020   7.29\n",
      "8  開發金  2019   7.31\n",
      "開發金 平均ROE為: 9.4\n"
     ]
    }
   ],
   "source": [
    "CDIBH_Mean_ROE = calROE('開發金')"
   ]
  },
  {
   "cell_type": "code",
   "execution_count": 389,
   "metadata": {},
   "outputs": [
    {
     "name": "stdout",
     "output_type": "stream",
     "text": [
      "   Name  Year   ROE\n",
      "9   國票金  2021  8.17\n",
      "10  國票金  2020  9.24\n",
      "11  國票金  2019  7.87\n",
      "國票金 平均ROE為: 8.43\n"
     ]
    }
   ],
   "source": [
    "IBF_Mean_ROE = calROE('國票金')"
   ]
  },
  {
   "cell_type": "markdown",
   "metadata": {},
   "source": [
    "## 將各公司的平均ROE整理進一個表格中"
   ]
  },
  {
   "cell_type": "code",
   "execution_count": 390,
   "metadata": {},
   "outputs": [
    {
     "name": "stdout",
     "output_type": "stream",
     "text": [
      "     平均ROE\n",
      "國泰   11.00\n",
      "富邦   13.63\n",
      "開發金   9.40\n",
      "國票金   8.43\n"
     ]
    }
   ],
   "source": [
    "ROE = {'國泰':cathay_Mean_ROE,'富邦':Fubon_Mean_ROE,'開發金':CDIBH_Mean_ROE,'國票金':IBF_Mean_ROE}\n",
    "ROE = pd.Series(ROE)\n",
    "ROE = pd.DataFrame({'平均ROE':ROE})\n",
    "print(ROE)"
   ]
  },
  {
   "cell_type": "markdown",
   "metadata": {},
   "source": [
    "## 繪製ROE長條圖"
   ]
  },
  {
   "cell_type": "code",
   "execution_count": 396,
   "metadata": {},
   "outputs": [
    {
     "data": {
      "image/png": "[encoded data removed]",
      "text/plain": [
       "<Figure size 1152x648 with 1 Axes>"
      ]
     },
     "metadata": {},
     "output_type": "display_data"
    }
   ],
   "source": [
    "fig, ax = plt.subplots(figsize=(16, 9))\n",
    "ax.tick_params(axis='x', colors='#777777', labelsize=16) #調整橫軸顏色、標籤大小\n",
    "ax.tick_params(axis='y', colors='#777777', labelsize=15) #調整縱軸顏色、標籤大小\n",
    "plt.bar(ROE.index, ROE['平均ROE'], width=0.3,bottom=None, align='center', color='lightsteelblue') #設定長條圖內容\n",
    "ax.text(0, 1.15, '2019-2021公司平均ROE',transform=ax.transAxes, size=24, weight=600, ha='left', va='top') #標題\n",
    "ax.text(0, 1.06, 'ROE (%)', transform=ax.transAxes, size=19, color='#777777') #小標題\n",
    "sns.set(style = \"whitegrid\") #白色網格背景\n",
    "plt.show()"
   ]
  },
  {
   "cell_type": "code",
   "execution_count": null,
   "metadata": {},
   "outputs": [],
   "source": []
  }
 ],
 "metadata": {
  "kernelspec": {
   "display_name": "Python 3",
   "language": "python",
   "name": "python3"
  },
  "language_info": {
   "codemirror_mode": {
    "name": "ipython",
    "version": 3
   },
   "file_extension": ".py",
   "mimetype": "text/x-python",
   "name": "python",
   "nbconvert_exporter": "python",
   "pygments_lexer": "ipython3",
   "version": "3.7.4"
  }
 },
 "nbformat": 4,
 "nbformat_minor": 2
}
